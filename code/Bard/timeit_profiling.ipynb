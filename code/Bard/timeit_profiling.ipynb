{
 "cells": [
  {
   "cell_type": "code",
   "execution_count": 1,
   "metadata": {},
   "outputs": [],
   "source": [
    "import numpy as np\n",
    "import update_register as ur\n",
    "from aiapy.calibrate import register, update_pointing\n",
    "import sunpy.map\n",
    "path = './AIA_data/aia_lev1_171a_2017_09_10t01_17_09_35z_image_lev1.fits'"
   ]
  },
  {
   "cell_type": "code",
   "execution_count": 2,
   "metadata": {},
   "outputs": [
    {
     "name": "stderr",
     "output_type": "stream",
     "text": [
      "WARNING: SunpyUserWarning: Input data has been cast to float64. [sunpy.image.transform]\n",
      "WARNING: SunpyUserWarning: Input data has been cast to float64. [sunpy.image.transform]\n"
     ]
    }
   ],
   "source": [
    "# Execute everything once\n",
    "m = sunpy.map.Map(path)\n",
    "m_up = update_pointing(m)\n",
    "# NOTE: I also tested timings using %timeit <command> in iPython\n",
    "#OG\n",
    "m_r1 = register(m_up)\n",
    "# with J.I.'s streamlined contains_full_disk\n",
    "m_r2 = ur.cfd_register(m_up)\n",
    "# with J.I. cfd and R. Attie openCV imitation of map.rotate\n",
    "m_r33 = ur.CV_register(m_up, order=3)\n",
    "m_r31 = ur.CV_register(m_up, order=1)\n",
    "# CuPy\n",
    "m_r4 = ur.cupy_register(m_up, order=1) #only supports order 0 or 1"
   ]
  },
  {
   "cell_type": "code",
   "execution_count": null,
   "metadata": {},
   "outputs": [
    {
     "name": "stderr",
     "output_type": "stream",
     "text": [
      "WARNING: SunpyUserWarning: Input data has been cast to float64. [sunpy.image.transform]\n",
      "WARNING: SunpyUserWarning: Input data has been cast to float64. [sunpy.image.transform]\n",
      "WARNING: SunpyUserWarning: Input data has been cast to float64. [sunpy.image.transform]\n",
      "WARNING: SunpyUserWarning: Input data has been cast to float64. [sunpy.image.transform]\n",
      "WARNING: SunpyUserWarning: Input data has been cast to float64. [sunpy.image.transform]\n",
      "WARNING: SunpyUserWarning: Input data has been cast to float64. [sunpy.image.transform]\n"
     ]
    }
   ],
   "source": [
    "%timeit m_r1 = register(m_up)"
   ]
  },
  {
   "cell_type": "code",
   "execution_count": null,
   "metadata": {},
   "outputs": [],
   "source": [
    "%timeit m_r2 = ur.cfd_register(m_up)"
   ]
  },
  {
   "cell_type": "code",
   "execution_count": null,
   "metadata": {},
   "outputs": [],
   "source": [
    "%timeit m_r33 = ur.CV_register(m_up, order=3)"
   ]
  },
  {
   "cell_type": "code",
   "execution_count": null,
   "metadata": {},
   "outputs": [],
   "source": []
  }
 ],
 "metadata": {
  "kernelspec": {
   "display_name": "Python 3",
   "language": "python",
   "name": "python3"
  },
  "language_info": {
   "codemirror_mode": {
    "name": "ipython",
    "version": 3
   },
   "file_extension": ".py",
   "mimetype": "text/x-python",
   "name": "python",
   "nbconvert_exporter": "python",
   "pygments_lexer": "ipython3",
   "version": "3.7.6"
  }
 },
 "nbformat": 4,
 "nbformat_minor": 4
}
