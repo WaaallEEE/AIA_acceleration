{
 "cells": [
  {
   "cell_type": "code",
   "execution_count": 1,
   "metadata": {},
   "outputs": [],
   "source": [
    "import numpy as np\n",
    "import update_register as ur\n",
    "from aiapy.calibrate import register, update_pointing\n",
    "import sunpy.map\n",
    "path = './AIA_data/aia_lev1_171a_2017_09_10t01_17_09_35z_image_lev1.fits'"
   ]
  },
  {
   "cell_type": "code",
   "execution_count": 2,
   "metadata": {},
   "outputs": [
    {
     "name": "stderr",
     "output_type": "stream",
     "text": [
      "WARNING: SunpyUserWarning: Input data has been cast to float64. [sunpy.image.transform]\n",
      "WARNING: SunpyUserWarning: Input data has been cast to float64. [sunpy.image.transform]\n"
     ]
    }
   ],
   "source": [
    "# Execute everything once\n",
    "m = sunpy.map.Map(path)\n",
    "m_up = update_pointing(m)\n",
    "# NOTE: I also tested timings using %timeit <command> in iPython\n",
    "#OG\n",
    "m_r1 = register(m_up)\n",
    "# with J.I.'s streamlined contains_full_disk\n",
    "m_r2 = ur.cfd_register(m_up)\n",
    "# with J.I. cfd and R. Attie openCV imitation of map.rotate\n",
    "m_r33 = ur.CV_register(m_up, order=3)\n",
    "m_r31 = ur.CV_register(m_up, order=1)\n",
    "# CuPy\n",
    "m_r4 = ur.cupy_register(m_up, order=1) #only supports order 0 or 1"
   ]
  },
  {
   "cell_type": "code",
   "execution_count": 4,
   "metadata": {},
   "outputs": [
    {
     "name": "stdout",
     "output_type": "stream",
     "text": [
      "2.21 s ± 76.6 ms per loop (mean ± std. dev. of 7 runs, 1 loop each)\n"
     ]
    }
   ],
   "source": [
    "%%timeit\n",
    "m = sunpy.map.Map(path)\n",
    "m_up = update_pointing(m)"
   ]
  },
  {
   "cell_type": "code",
   "execution_count": 3,
   "metadata": {},
   "outputs": [
    {
     "name": "stderr",
     "output_type": "stream",
     "text": [
      "WARNING: SunpyUserWarning: Input data has been cast to float64. [sunpy.image.transform]\n",
      "WARNING: SunpyUserWarning: Input data has been cast to float64. [sunpy.image.transform]\n",
      "WARNING: SunpyUserWarning: Input data has been cast to float64. [sunpy.image.transform]\n",
      "WARNING: SunpyUserWarning: Input data has been cast to float64. [sunpy.image.transform]\n",
      "WARNING: SunpyUserWarning: Input data has been cast to float64. [sunpy.image.transform]\n",
      "WARNING: SunpyUserWarning: Input data has been cast to float64. [sunpy.image.transform]\n",
      "WARNING: SunpyUserWarning: Input data has been cast to float64. [sunpy.image.transform]\n",
      "WARNING: SunpyUserWarning: Input data has been cast to float64. [sunpy.image.transform]\n"
     ]
    },
    {
     "name": "stdout",
     "output_type": "stream",
     "text": [
      "5.46 s ± 103 ms per loop (mean ± std. dev. of 7 runs, 1 loop each)\n"
     ]
    }
   ],
   "source": [
    "%timeit m_r1 = register(m_up)"
   ]
  },
  {
   "cell_type": "code",
   "execution_count": 5,
   "metadata": {},
   "outputs": [
    {
     "name": "stderr",
     "output_type": "stream",
     "text": [
      "WARNING: SunpyUserWarning: Input data has been cast to float64. [sunpy.image.transform]\n",
      "WARNING: SunpyUserWarning: Input data has been cast to float64. [sunpy.image.transform]\n",
      "WARNING: SunpyUserWarning: Input data has been cast to float64. [sunpy.image.transform]\n",
      "WARNING: SunpyUserWarning: Input data has been cast to float64. [sunpy.image.transform]\n",
      "WARNING: SunpyUserWarning: Input data has been cast to float64. [sunpy.image.transform]\n",
      "WARNING: SunpyUserWarning: Input data has been cast to float64. [sunpy.image.transform]\n",
      "WARNING: SunpyUserWarning: Input data has been cast to float64. [sunpy.image.transform]\n",
      "WARNING: SunpyUserWarning: Input data has been cast to float64. [sunpy.image.transform]\n"
     ]
    },
    {
     "name": "stdout",
     "output_type": "stream",
     "text": [
      "1.58 s ± 13.1 ms per loop (mean ± std. dev. of 7 runs, 1 loop each)\n"
     ]
    }
   ],
   "source": [
    "%timeit m_r2 = ur.cfd_register(m_up)"
   ]
  },
  {
   "cell_type": "code",
   "execution_count": 6,
   "metadata": {},
   "outputs": [
    {
     "name": "stdout",
     "output_type": "stream",
     "text": [
      "604 ms ± 5.77 ms per loop (mean ± std. dev. of 7 runs, 1 loop each)\n"
     ]
    }
   ],
   "source": [
    "%timeit m_r33 = ur.CV_register(m_up, order=3)"
   ]
  },
  {
   "cell_type": "code",
   "execution_count": 8,
   "metadata": {},
   "outputs": [
    {
     "name": "stdout",
     "output_type": "stream",
     "text": [
      "634 ms ± 9.5 ms per loop (mean ± std. dev. of 7 runs, 1 loop each)\n"
     ]
    }
   ],
   "source": [
    "%timeit m_r31 = ur.CV_register(m_up, order=1)"
   ]
  },
  {
   "cell_type": "code",
   "execution_count": 9,
   "metadata": {},
   "outputs": [
    {
     "name": "stdout",
     "output_type": "stream",
     "text": [
      "653 ms ± 4.26 ms per loop (mean ± std. dev. of 7 runs, 1 loop each)\n"
     ]
    }
   ],
   "source": [
    "%timeit m_r4 = ur.cupy_register(m_up, order=1) #only supports order 0 or 1"
   ]
  },
  {
   "cell_type": "code",
   "execution_count": null,
   "metadata": {},
   "outputs": [],
   "source": []
  }
 ],
 "metadata": {
  "kernelspec": {
   "display_name": "Python 3",
   "language": "python",
   "name": "python3"
  },
  "language_info": {
   "codemirror_mode": {
    "name": "ipython",
    "version": 3
   },
   "file_extension": ".py",
   "mimetype": "text/x-python",
   "name": "python",
   "nbconvert_exporter": "python",
   "pygments_lexer": "ipython3",
   "version": "3.7.6"
  }
 },
 "nbformat": 4,
 "nbformat_minor": 4
}
