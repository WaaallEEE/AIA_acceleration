{
 "cells": [
  {
   "cell_type": "code",
   "execution_count": 1,
   "metadata": {},
   "outputs": [],
   "source": [
    "import numpy as np\n",
    "import update_register as ur\n",
    "from aiapy.calibrate import register, update_pointing\n",
    "import sunpy.map\n",
    "\n",
    "from astropy.io import fits\n",
    "import astropy.units as u\n",
    "from sunpy.map.sources.sdo import AIAMap, HMIMap\n",
    "from sunpy.map import map_edges\n",
    "try:\n",
    "    import cv2\n",
    "    HAS_CV2 = True\n",
    "except ImportError:\n",
    "    HAS_CV2 = False\n",
    "\n",
    "try:\n",
    "    import cupy\n",
    "    from cupyx.scipy.ndimage import affine_transform as cupy_affine_transform\n",
    "    HAS_CUPY = True\n",
    "except ImportError:\n",
    "    HAS_CUPY = False"
   ]
  },
  {
   "cell_type": "code",
   "execution_count": 2,
   "metadata": {},
   "outputs": [],
   "source": [
    "def do_cupy_affine_transform(image, rmatrix, order=1, scale=1.0, image_center=None,recenter=False, missing=0.0):\n",
    "    \"\"\"\n",
    "    Adapted from sunpy.image.transform.affine_transform\n",
    "\n",
    "    ***MODIFIED: used cupyx.scipy.ndimage.affine_transformation\n",
    "    ***MODIFIED added cupy stuff\n",
    "    \"\"\"\n",
    "\n",
    "    rmatrix = rmatrix / scale\n",
    "    array_center = (np.array(image.shape)[::-1] - 1) / 2.0\n",
    "\n",
    "    # Make sure the image center is an array and is where it's supposed to be\n",
    "    if image_center is not None:\n",
    "        image_center = np.asanyarray(image_center)\n",
    "    else:\n",
    "        image_center = array_center\n",
    "\n",
    "    # Determine center of rotation based on use (or not) of the recenter keyword\n",
    "    if recenter:\n",
    "        rot_center = array_center\n",
    "    else:\n",
    "        rot_center = image_center\n",
    "\n",
    "    displacement = np.dot(rmatrix, rot_center)\n",
    "    shift = image_center - displacement\n",
    "\n",
    "    if np.any(np.isnan(image)):\n",
    "        warnings.warn(\"Setting NaNs to 0 for SciPy rotation.\", SunpyUserWarning)\n",
    "    # Transform the image using the scipy affine transform\n",
    "    image = cupy.array(np.nan_to_num(image))\n",
    "    rmatrix = cupy.array(rmatrix)\n",
    "    rotated_image = cupy_affine_transform(\n",
    "        image.T, rmatrix, offset=shift, order=order,\n",
    "        mode='constant', cval=missing).T\n",
    "\n",
    "\n",
    "    return cupy.asnumpy(rotated_image)"
   ]
  },
  {
   "cell_type": "code",
   "execution_count": 8,
   "metadata": {},
   "outputs": [
    {
     "name": "stdout",
     "output_type": "stream",
     "text": [
      "CPU times: user 258 ms, sys: 3.42 ms, total: 261 ms\n",
      "Wall time: 2.24 s\n"
     ]
    }
   ],
   "source": [
    "%%time\n",
    "path = './AIA_data/aia_lev1_171a_2017_09_10t01_17_09_35z_image_lev1.fits'\n",
    "m = sunpy.map.Map(path)\n",
    "m_up = update_pointing(m)"
   ]
  },
  {
   "cell_type": "code",
   "execution_count": 6,
   "metadata": {},
   "outputs": [],
   "source": [
    "smap = m_up\n",
    "missing = None"
   ]
  },
  {
   "cell_type": "code",
   "execution_count": null,
   "metadata": {},
   "outputs": [],
   "source": [
    "%%time\n",
    "if ((smap.scale[0] / 0.6).round() != 1.0 * u.arcsec / u.pix\n",
    "        and smap.data.shape != (4096, 4096)):\n",
    "    scale = (smap.scale[0] / 0.6).round() * 0.6 * u.arcsec\n",
    "else:\n",
    "    scale = 0.6 * u.arcsec  # pragma: no cover # can't test this because it needs a full res image\n",
    "scale_factor = smap.scale[0] / scale\n",
    "\n",
    "missing = smap.min() if missing is None else missing"
   ]
  }
 ],
 "metadata": {
  "kernelspec": {
   "display_name": "Python 3",
   "language": "python",
   "name": "python3"
  },
  "language_info": {
   "codemirror_mode": {
    "name": "ipython",
    "version": 3
   },
   "file_extension": ".py",
   "mimetype": "text/x-python",
   "name": "python",
   "nbconvert_exporter": "python",
   "pygments_lexer": "ipython3",
   "version": "3.7.6"
  }
 },
 "nbformat": 4,
 "nbformat_minor": 4
}
