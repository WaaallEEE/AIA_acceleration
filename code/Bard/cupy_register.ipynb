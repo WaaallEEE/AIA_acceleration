{
 "cells": [
  {
   "cell_type": "code",
   "execution_count": 35,
   "metadata": {},
   "outputs": [
    {
     "name": "stdout",
     "output_type": "stream",
     "text": [
      "openCV:  4.4.0\n",
      "CuPy  7.5.0\n"
     ]
    }
   ],
   "source": [
    "import numpy as np\n",
    "import update_register as ur\n",
    "from aiapy.calibrate import register, update_pointing\n",
    "import sunpy.map\n",
    "\n",
    "from astropy.io import fits\n",
    "import astropy.units as u\n",
    "from sunpy.map.sources.sdo import AIAMap, HMIMap\n",
    "from sunpy.map import map_edges\n",
    "try:\n",
    "    import cv2\n",
    "    HAS_CV2 = True\n",
    "    print('openCV: ', cv2.__version__)\n",
    "except ImportError:\n",
    "    HAS_CV2 = False\n",
    "\n",
    "try:\n",
    "    import cupy\n",
    "    from cupyx.scipy.ndimage import affine_transform as cupy_affine_transform\n",
    "    HAS_CUPY = True\n",
    "    print('CuPy ', cupy.__version__)\n",
    "except ImportError:\n",
    "    HAS_CUPY = False"
   ]
  },
  {
   "cell_type": "code",
   "execution_count": 2,
   "metadata": {},
   "outputs": [],
   "source": [
    "def do_cupy_affine_transform(image, rmatrix, order=1, scale=1.0, image_center=None,recenter=False, missing=0.0):\n",
    "    \"\"\"\n",
    "    Adapted from sunpy.image.transform.affine_transform\n",
    "\n",
    "    ***MODIFIED: used cupyx.scipy.ndimage.affine_transformation\n",
    "    ***MODIFIED added cupy stuff\n",
    "    \"\"\"\n",
    "\n",
    "    rmatrix = rmatrix / scale\n",
    "    array_center = (np.array(image.shape)[::-1] - 1) / 2.0\n",
    "\n",
    "    # Make sure the image center is an array and is where it's supposed to be\n",
    "    if image_center is not None:\n",
    "        image_center = np.asanyarray(image_center)\n",
    "    else:\n",
    "        image_center = array_center\n",
    "\n",
    "    # Determine center of rotation based on use (or not) of the recenter keyword\n",
    "    if recenter:\n",
    "        rot_center = array_center\n",
    "    else:\n",
    "        rot_center = image_center\n",
    "\n",
    "    displacement = np.dot(rmatrix, rot_center)\n",
    "    shift = image_center - displacement\n",
    "\n",
    "    if np.any(np.isnan(image)):\n",
    "        warnings.warn(\"Setting NaNs to 0 for SciPy rotation.\", SunpyUserWarning)\n",
    "    # Transform the image using the scipy affine transform\n",
    "    image = cupy.array(np.nan_to_num(image))\n",
    "    rmatrix = cupy.array(rmatrix)\n",
    "    rotated_image = cupy_affine_transform(\n",
    "        image.T, rmatrix, offset=shift, order=order,\n",
    "        mode='constant', cval=missing).T\n",
    "\n",
    "\n",
    "    return cupy.asnumpy(rotated_image)"
   ]
  },
  {
   "cell_type": "code",
   "execution_count": 10,
   "metadata": {},
   "outputs": [
    {
     "name": "stdout",
     "output_type": "stream",
     "text": [
      "CPU times: user 342 ms, sys: 3.54 ms, total: 345 ms\n",
      "Wall time: 2.25 s\n"
     ]
    }
   ],
   "source": [
    "%%time\n",
    "path = './AIA_data/aia_lev1_171a_2017_09_10t01_17_09_35z_image_lev1.fits'\n",
    "m = sunpy.map.Map(path)\n",
    "m_up = update_pointing(m)\n",
    "smap = m_up\n",
    "missing = None"
   ]
  },
  {
   "cell_type": "markdown",
   "metadata": {},
   "source": [
    "### Alternate data / header loader - no sunpy - including metadata preparation"
   ]
  },
  {
   "cell_type": "code",
   "execution_count": 14,
   "metadata": {},
   "outputs": [
    {
     "name": "stdout",
     "output_type": "stream",
     "text": [
      "CPU times: user 144 ms, sys: 16.4 ms, total: 160 ms\n",
      "Wall time: 158 ms\n"
     ]
    }
   ],
   "source": [
    "%%time\n",
    "hdul = fits.open(path)\n",
    "hdul[1].verify('silentfix')\n",
    "header = hdul[1].header\n",
    "data = hdul[1].data.astype(np.float64)\n",
    "data /= header['EXPTIME']\n",
    "# Target scale is 0.6 arcsec/px\n",
    "target_scale = 0.6\n",
    "scale_factor = header['CDELT1'] / target_scale\n",
    "# Center of rotation at reference pixel converted to a coordinate origin at 0\n",
    "reference_pixel = [header['CRPIX1'] - 1, header['CRPIX2'] - 1]\n",
    "# Rotation angle with openCV uses coordinate origin at top-left corner. For solar images in numpy we need to invert the angle.\n",
    "angle = -header['CROTA2']"
   ]
  },
  {
   "cell_type": "markdown",
   "metadata": {},
   "source": [
    "## Sunpy metadata preparation"
   ]
  },
  {
   "cell_type": "code",
   "execution_count": 18,
   "metadata": {},
   "outputs": [
    {
     "name": "stdout",
     "output_type": "stream",
     "text": [
      "CPU times: user 4.61 ms, sys: 4 ms, total: 8.6 ms\n",
      "Wall time: 7.59 ms\n"
     ]
    }
   ],
   "source": [
    "%%time\n",
    "if ((smap.scale[0] / 0.6).round() != 1.0 * u.arcsec / u.pix\n",
    "        and smap.data.shape != (4096, 4096)):\n",
    "    scale = (smap.scale[0] / 0.6).round() * 0.6 * u.arcsec\n",
    "else:\n",
    "    scale = 0.6 * u.arcsec  # pragma: no cover # can't test this because it needs a full res image\n",
    "scale_factor = smap.scale[0] / scale\n",
    "\n",
    "missing = smap.min() if missing is None else missing\n",
    "\n",
    "##### Entering cupy_rotate()\n",
    "\n",
    "# tempmap = cupy_rotate(smap, recenter=True,\n",
    "#                       scale=scale_factor.value,\n",
    "#                       order=order,\n",
    "#                       missing=missing)\n",
    "angle = None\n",
    "rmatrix = None\n",
    "recenter = True\n",
    "order = 1\n",
    "scale = scale_factor.value\n",
    "\n",
    "if angle is not None and rmatrix is not None:\n",
    "    raise ValueError(\"You cannot specify both an angle and a rotation matrix.\")\n",
    "elif angle is None and rmatrix is None:\n",
    "    rmatrix = smap.rotation_matrix\n",
    "        \n",
    "\n",
    "# Copy meta data\n",
    "new_meta = smap.meta.copy()\n",
    "\n",
    "# Calculate the shape in pixels to contain all of the image data\n",
    "extent = np.max(np.abs(np.vstack((smap.data.shape @ rmatrix,\n",
    "                                  smap.data.shape @ rmatrix.T))), axis=0)\n",
    "\n",
    "# Calculate the needed padding or unpadding\n",
    "diff = np.asarray(np.ceil((extent - smap.data.shape) / 2), dtype=int).ravel()\n",
    "# Pad the image array\n",
    "pad_x = int(np.max((diff[1], 0)))\n",
    "pad_y = int(np.max((diff[0], 0)))\n",
    "\n",
    "new_data = np.pad(smap.data,\n",
    "                  ((pad_y, pad_y), (pad_x, pad_x)),\n",
    "                  mode='constant',\n",
    "                  constant_values=(missing, missing))\n",
    "new_meta['crpix1'] += pad_x\n",
    "new_meta['crpix2'] += pad_y\n",
    "\n",
    "# All of the following pixel calculations use a pixel origin of 0\n",
    "\n",
    "pixel_array_center = (np.flipud(new_data.shape) - 1) / 2.0"
   ]
  },
  {
   "cell_type": "markdown",
   "metadata": {},
   "source": [
    "### Bottleneck in Sunpy metadata preparation ~ 100ms"
   ]
  },
  {
   "cell_type": "code",
   "execution_count": 21,
   "metadata": {},
   "outputs": [
    {
     "name": "stdout",
     "output_type": "stream",
     "text": [
      "CPU times: user 89 ms, sys: 4 ms, total: 93 ms\n",
      "Wall time: 90.8 ms\n"
     ]
    }
   ],
   "source": [
    "%%time\n",
    "# Create a temporary map so we can use it for the data to pixel calculation.\n",
    "temp_map = smap._new_instance(new_data, new_meta, smap.plot_settings)\n",
    "# Convert the axis of rotation from data coordinates to pixel coordinates\n",
    "pixel_rotation_center = u.Quantity(temp_map.world_to_pixel(smap.reference_coordinate,origin=0)).value\n",
    "del temp_map"
   ]
  },
  {
   "cell_type": "markdown",
   "metadata": {},
   "source": [
    "## CuPy Affine Transform (GPU processing) - ~100ms"
   ]
  },
  {
   "cell_type": "code",
   "execution_count": 29,
   "metadata": {},
   "outputs": [
    {
     "name": "stdout",
     "output_type": "stream",
     "text": [
      "CPU times: user 124 ms, sys: 20.5 ms, total: 144 ms\n",
      "Wall time: 143 ms\n"
     ]
    }
   ],
   "source": [
    "%%time\n",
    "if recenter:\n",
    "    pixel_center = pixel_rotation_center\n",
    "else:\n",
    "    pixel_center = pixel_array_center\n",
    "    \n",
    "new_data2 = do_cupy_affine_transform(new_data.T,\n",
    "                            np.asarray(rmatrix),\n",
    "                            order=order, scale=scale,\n",
    "                            image_center=np.flipud(pixel_center),\n",
    "                            recenter=recenter, missing=missing).T"
   ]
  },
  {
   "cell_type": "code",
   "execution_count": 34,
   "metadata": {},
   "outputs": [
    {
     "name": "stdout",
     "output_type": "stream",
     "text": [
      "96.2 ms ± 493 µs per loop (mean ± std. dev. of 7 runs, 10 loops each)\n"
     ]
    }
   ],
   "source": [
    "%%timeit \n",
    "new_data2 = do_cupy_affine_transform(new_data.T,\n",
    "                            np.asarray(rmatrix),\n",
    "                            order=order, scale=scale,\n",
    "                            image_center=np.flipud(pixel_center),\n",
    "                            recenter=recenter, missing=missing).T"
   ]
  },
  {
   "cell_type": "code",
   "execution_count": 30,
   "metadata": {},
   "outputs": [
    {
     "name": "stdout",
     "output_type": "stream",
     "text": [
      "CPU times: user 44.6 ms, sys: 517 µs, total: 45.1 ms\n",
      "Wall time: 35.7 ms\n"
     ]
    }
   ],
   "source": [
    "%%time\n",
    "if recenter:\n",
    "    new_reference_pixel = pixel_array_center\n",
    "else:\n",
    "    # Calculate new pixel coordinates for the rotation center\n",
    "    new_reference_pixel = pixel_center + np.dot(rmatrix,pixel_rotation_center - pixel_center)\n",
    "    new_reference_pixel = np.array(new_reference_pixel).ravel()\n",
    "    \n",
    "# The FITS-WCS transform is by definition defined around the\n",
    "# reference coordinate in the header. -- THIS TAKES 30ms!!! \n",
    "lon, lat = smap._get_lon_lat(smap.reference_coordinate.frame)\n",
    "rotation_center = u.Quantity([lon, lat])\n",
    "\n",
    "# Define the new reference_pixel\n",
    "new_meta['crval1'] = rotation_center[0].value\n",
    "new_meta['crval2'] = rotation_center[1].value\n",
    "new_meta['crpix1'] = new_reference_pixel[0] + 1  # FITS pixel origin is 1\n",
    "new_meta['crpix2'] = new_reference_pixel[1] + 1  # FITS pixel origin is 1\n",
    "\n",
    "# Unpad the array if necessary\n",
    "unpad_x = -np.min((diff[1], 0))\n",
    "if unpad_x > 0:\n",
    "    new_data = new_data[:, unpad_x:-unpad_x]\n",
    "    new_meta['crpix1'] -= unpad_x\n",
    "unpad_y = -np.min((diff[0], 0))\n",
    "if unpad_y > 0:\n",
    "    new_data = new_data[unpad_y:-unpad_y, :]\n",
    "    new_meta['crpix2'] -= unpad_y\n",
    "\n",
    "    \n",
    "# Calculate the new rotation matrix to store in the header by\n",
    "# \"subtracting\" the rotation matrix used in the rotate from the old one\n",
    "# That being calculate the dot product of the old header data with the\n",
    "# inverse of the rotation matrix.\n",
    "pc_C = np.dot(smap.rotation_matrix, np.linalg.inv(rmatrix))\n",
    "new_meta['PC1_1'] = pc_C[0, 0]\n",
    "new_meta['PC1_2'] = pc_C[0, 1]\n",
    "new_meta['PC2_1'] = pc_C[1, 0]\n",
    "new_meta['PC2_2'] = pc_C[1, 1]\n",
    "\n",
    "# Update pixel size if image has been scaled.\n",
    "if scale != 1.0:\n",
    "    new_meta['cdelt1'] = (smap.scale[0] / scale).value\n",
    "    new_meta['cdelt2'] = (smap.scale[1] / scale).value\n",
    "\n",
    "# Remove old CROTA kwargs because we have saved a new PCi_j matrix.\n",
    "new_meta.pop('CROTA1', None)\n",
    "new_meta.pop('CROTA2', None)\n",
    "# Remove CDi_j header\n",
    "new_meta.pop('CD1_1', None)\n",
    "new_meta.pop('CD1_2', None)\n",
    "new_meta.pop('CD2_1', None)\n",
    "new_meta.pop('CD2_2', None)\n",
    "\n",
    "# Create new map with the modification\n",
    "tempmap = smap._new_instance(new_data, new_meta, smap.plot_settings)\n",
    "\n",
    "# end of cupy_rotate()"
   ]
  },
  {
   "cell_type": "markdown",
   "metadata": {},
   "source": [
    "###  -> back into cupy_register()"
   ]
  },
  {
   "cell_type": "code",
   "execution_count": 31,
   "metadata": {},
   "outputs": [
    {
     "name": "stdout",
     "output_type": "stream",
     "text": [
      "CPU times: user 9.85 ms, sys: 3.96 ms, total: 13.8 ms\n",
      "Wall time: 12.6 ms\n"
     ]
    }
   ],
   "source": [
    "%%time\n",
    "center = np.floor(tempmap.meta['crpix1'])\n",
    "range_side = (center + np.array([-1, 1]) * smap.data.shape[0] / 2) * u.pix\n",
    "newmap = tempmap.submap(\n",
    "    u.Quantity([range_side[0], range_side[0]]),\n",
    "    top_right=u.Quantity([range_side[1], range_side[1]]) - 1*u.pix)\n",
    "\n",
    "newmap.meta['r_sun'] = newmap.meta['rsun_obs'] / newmap.meta['cdelt1']\n",
    "newmap.meta['lvl_num'] = 1.5\n",
    "newmap.meta['bitpix'] = -64"
   ]
  },
  {
   "cell_type": "markdown",
   "metadata": {},
   "source": [
    "## - Total Sunpy overhead: ~ 150ms; 2s with Sunpy data loader\n",
    "## - CuPy interpolation (linear only): 100 ms"
   ]
  },
  {
   "cell_type": "code",
   "execution_count": null,
   "metadata": {},
   "outputs": [],
   "source": []
  }
 ],
 "metadata": {
  "kernelspec": {
   "display_name": "Python 3",
   "language": "python",
   "name": "python3"
  },
  "language_info": {
   "codemirror_mode": {
    "name": "ipython",
    "version": 3
   },
   "file_extension": ".py",
   "mimetype": "text/x-python",
   "name": "python",
   "nbconvert_exporter": "python",
   "pygments_lexer": "ipython3",
   "version": "3.7.6"
  }
 },
 "nbformat": 4,
 "nbformat_minor": 4
}
