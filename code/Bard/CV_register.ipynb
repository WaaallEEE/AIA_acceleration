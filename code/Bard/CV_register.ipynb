{
 "cells": [
  {
   "cell_type": "code",
   "execution_count": 1,
   "metadata": {},
   "outputs": [],
   "source": [
    "import numpy as np\n",
    "import update_register as ur\n",
    "from aiapy.calibrate import register, update_pointing\n",
    "import sunpy.map\n",
    "\n",
    "from astropy.io import fits\n",
    "import astropy.units as u\n",
    "from sunpy.map.sources.sdo import AIAMap, HMIMap\n",
    "from sunpy.map import map_edges\n",
    "try:\n",
    "    import cv2\n",
    "    HAS_CV2 = True\n",
    "except ImportError:\n",
    "    HAS_CV2 = False\n",
    "\n",
    "try:\n",
    "    import cupy\n",
    "    from cupyx.scipy.ndimage import affine_transform as cupy_affine_transform\n",
    "    HAS_CUPY = True\n",
    "except ImportError:\n",
    "    HAS_CUPY = False"
   ]
  },
  {
   "cell_type": "code",
   "execution_count": 4,
   "metadata": {},
   "outputs": [
    {
     "name": "stdout",
     "output_type": "stream",
     "text": [
      "CPU times: user 345 ms, sys: 11.7 ms, total: 356 ms\n",
      "Wall time: 2.26 s\n"
     ]
    }
   ],
   "source": [
    "%%time\n",
    "path = './AIA_data/aia_lev1_171a_2017_09_10t01_17_09_35z_image_lev1.fits'\n",
    "m = sunpy.map.Map(path)\n",
    "m_up = update_pointing(m)\n",
    "smap = m_up\n",
    "missing = None\n",
    "interp = cv2.INTER_CUBIC"
   ]
  },
  {
   "cell_type": "code",
   "execution_count": 12,
   "metadata": {},
   "outputs": [
    {
     "name": "stdout",
     "output_type": "stream",
     "text": [
      "CPU times: user 590 µs, sys: 0 ns, total: 590 µs\n",
      "Wall time: 593 µs\n"
     ]
    }
   ],
   "source": [
    "%%time\n",
    "if not isinstance(smap, (AIAMap, HMIMap)):\n",
    "    raise ValueError(\"Input must be an AIAMap or HMIMap.\")\n",
    "\n",
    "# Target scale is 0.6 arcsec/pixel, but this needs to be adjusted if the\n",
    "# map has already been rescaled.\n",
    "if ((smap.scale[0] / 0.6).round() != 1.0 * u.arcsec / u.pix\n",
    "        and smap.data.shape != (4096, 4096)):\n",
    "    scale = (smap.scale[0] / 0.6).round() * 0.6 * u.arcsec\n",
    "else:\n",
    "    scale = 0.6 * u.arcsec  # pragma: no cover # can't test this because it needs a full res image\n",
    "scale_factor = smap.scale[0] / scale\n",
    "\n",
    "missing = smap.min() if missing is None else missing\n",
    "\n",
    "scale_factor=scale_factor.value\n",
    "angle = None"
   ]
  },
  {
   "cell_type": "code",
   "execution_count": 26,
   "metadata": {},
   "outputs": [
    {
     "name": "stdout",
     "output_type": "stream",
     "text": [
      "CPU times: user 111 ms, sys: 11.6 ms, total: 123 ms\n",
      "Wall time: 122 ms\n"
     ]
    }
   ],
   "source": [
    "%%time\n",
    "if missing is None:\n",
    "    missing = smap.min()\n",
    "\n",
    "if angle is None:\n",
    "    ang = -smap.meta['CROTA2']\n",
    "elif angle is not None:\n",
    "    ang = angle\n",
    "\n",
    "# convert angle to radian\n",
    "c = np.cos(np.deg2rad(ang))\n",
    "s = np.sin(np.deg2rad(ang))\n",
    "rmatrix = np.array([[c, -s],\n",
    "                    [s, c]])\n",
    "\n",
    "array_center = (np.array(smap.data.shape)[::-1] - 1) / 2.0\n",
    "\n",
    "# Copy meta data\n",
    "new_meta = smap.meta.copy()\n",
    "\n",
    "extent = np.max(np.abs(np.vstack((smap.data.shape @ rmatrix,\n",
    "                                  smap.data.shape @ rmatrix.T))), axis=0)\n",
    "\n",
    "# Calculate the needed padding or unpadding\n",
    "diff = np.asarray(np.ceil((extent - smap.data.shape) / 2), dtype=int).ravel()\n",
    "# Pad the image array\n",
    "pad_x = int(np.max((diff[1], 0)))\n",
    "pad_y = int(np.max((diff[0], 0)))\n",
    "\n",
    "new_meta['crpix1'] += pad_x\n",
    "new_meta['crpix2'] += pad_y\n",
    "\n",
    "new_data = np.pad(smap.data,\n",
    "                  ((pad_y, pad_y), (pad_x, pad_x)),\n",
    "                  mode='constant',\n",
    "                  constant_values=(missing, missing))\n",
    "\n",
    "pixel_array_center = (np.flipud(new_data.shape) - 1) / 2.0\n",
    "\n",
    "# Create a temporary map so we can use it for the data to pixel calculation.\n",
    "temp_map = smap._new_instance(new_data, new_meta, smap.plot_settings)\n",
    "\n",
    "#this is same as `reference_pixel` in R. Attie original scale_rotate\n",
    "pixel_rotation_center = u.Quantity(temp_map.world_to_pixel(smap.reference_coordinate, origin=0)).value\n",
    "pixel_center = pixel_rotation_center\n",
    "\n",
    "del temp_map\n",
    "\n",
    "# DO CV THING HERE\n",
    "padded_array_center = (np.array(new_data.shape)[::-1] - 1) / 2.0\n",
    "padded_reference_pixel = pixel_rotation_center + np.array([pad_x, pad_y])\n",
    "rmatrix_cv = cv2.getRotationMatrix2D((padded_reference_pixel[0], padded_reference_pixel[1]), ang, scale_factor)\n",
    "\n",
    "# Adding extra shift to recenter:\n",
    "# move image so the reference pixel aligns with the center of the padded array\n",
    "shift = padded_array_center - padded_reference_pixel\n",
    "rmatrix_cv[0, 2] += shift[0]\n",
    "rmatrix_cv[1, 2] += shift[1]\n",
    "\n",
    "#cast new_data to float64, then warpAffine it\n",
    "new_data = new_data.astype(np.float64, casting='safe')"
   ]
  },
  {
   "cell_type": "code",
   "execution_count": 27,
   "metadata": {},
   "outputs": [],
   "source": [
    "rotated_image = cv2.warpAffine(new_data, rmatrix_cv, new_data.shape, cv2.INTER_LINEAR)\n",
    "rotated_image = cv2.warpAffine(new_data, rmatrix_cv, new_data.shape, cv2.INTER_CUBIC)"
   ]
  },
  {
   "cell_type": "code",
   "execution_count": 29,
   "metadata": {},
   "outputs": [
    {
     "name": "stdout",
     "output_type": "stream",
     "text": [
      "55.4 ms ± 1.03 ms per loop (mean ± std. dev. of 7 runs, 10 loops each)\n"
     ]
    }
   ],
   "source": [
    "%timeit rotated_image = cv2.warpAffine(new_data, rmatrix_cv, new_data.shape, cv2.INTER_LINEAR)"
   ]
  },
  {
   "cell_type": "code",
   "execution_count": 30,
   "metadata": {},
   "outputs": [
    {
     "name": "stdout",
     "output_type": "stream",
     "text": [
      "54.9 ms ± 652 µs per loop (mean ± std. dev. of 7 runs, 10 loops each)\n"
     ]
    }
   ],
   "source": [
    "%timeit rotated_image = cv2.warpAffine(new_data, rmatrix_cv, new_data.shape, cv2.INTER_CUBIC)"
   ]
  },
  {
   "cell_type": "code",
   "execution_count": 20,
   "metadata": {},
   "outputs": [
    {
     "name": "stdout",
     "output_type": "stream",
     "text": [
      "CPU times: user 43.4 ms, sys: 0 ns, total: 43.4 ms\n",
      "Wall time: 33.8 ms\n"
     ]
    }
   ],
   "source": [
    "%%time\n",
    "\n",
    "new_reference_pixel = pixel_array_center\n",
    "\n",
    "# The FITS-WCS transform is by definition defined around the\n",
    "# reference coordinate in the header.\n",
    "lon, lat = smap._get_lon_lat(smap.reference_coordinate.frame)\n",
    "rotation_center = u.Quantity([lon, lat])\n",
    "\n",
    "# Define the new reference_pixel\n",
    "new_meta['crval1'] = rotation_center[0].value\n",
    "new_meta['crval2'] = rotation_center[1].value\n",
    "new_meta['crpix1'] = new_reference_pixel[0] + 1  # FITS pixel origin is 1\n",
    "new_meta['crpix2'] = new_reference_pixel[1] + 1  # FITS pixel origin is 1\n",
    "\n",
    "# Unpad the array if necessary\n",
    "unpad_x = -np.min((diff[1], 0))\n",
    "if unpad_x > 0:\n",
    "    new_data = new_data[:, unpad_x:-unpad_x]\n",
    "    new_meta['crpix1'] -= unpad_x\n",
    "unpad_y = -np.min((diff[0], 0))\n",
    "if unpad_y > 0:\n",
    "    new_data = new_data[unpad_y:-unpad_y, :]\n",
    "    new_meta['crpix2'] -= unpad_y\n",
    "\n",
    "# Calculate the new rotation matrix to store in the header by\n",
    "# \"subtracting\" the rotation matrix used in the rotate from the old one\n",
    "# That being calculate the dot product of the old header data with the\n",
    "# inverse of the rotation matrix.\n",
    "pc_C = np.dot(smap.rotation_matrix, np.linalg.inv(rmatrix))\n",
    "new_meta['PC1_1'] = pc_C[0, 0]\n",
    "new_meta['PC1_2'] = pc_C[0, 1]\n",
    "new_meta['PC2_1'] = pc_C[1, 0]\n",
    "new_meta['PC2_2'] = pc_C[1, 1]\n",
    "\n",
    "# Update pixel size if image has been scaled.\n",
    "if scale_factor != 1.0:\n",
    "    new_meta['cdelt1'] = (smap.scale[0] / scale_factor).value\n",
    "    new_meta['cdelt2'] = (smap.scale[1] / scale_factor).value\n",
    "\n",
    "# Remove old CROTA kwargs because we have saved a new PCi_j matrix.\n",
    "new_meta.pop('CROTA1', None)\n",
    "new_meta.pop('CROTA2', None)\n",
    "# Remove CDi_j header\n",
    "new_meta.pop('CD1_1', None)\n",
    "new_meta.pop('CD1_2', None)\n",
    "new_meta.pop('CD2_1', None)\n",
    "new_meta.pop('CD2_2', None)\n",
    "\n",
    "# Create new map with the modification\n",
    "new_map = smap._new_instance(new_data, new_meta, smap.plot_settings)\n"
   ]
  },
  {
   "cell_type": "markdown",
   "metadata": {},
   "source": [
    "## - Total Sunpy overhead: ~140ms; with Sunpy data load: >2s\n",
    "## - openCV interpolation: ~55 ms"
   ]
  },
  {
   "cell_type": "code",
   "execution_count": null,
   "metadata": {},
   "outputs": [],
   "source": []
  }
 ],
 "metadata": {
  "kernelspec": {
   "display_name": "Python 3",
   "language": "python",
   "name": "python3"
  },
  "language_info": {
   "codemirror_mode": {
    "name": "ipython",
    "version": 3
   },
   "file_extension": ".py",
   "mimetype": "text/x-python",
   "name": "python",
   "nbconvert_exporter": "python",
   "pygments_lexer": "ipython3",
   "version": "3.7.6"
  }
 },
 "nbformat": 4,
 "nbformat_minor": 4
}
